{
  "nbformat": 4,
  "nbformat_minor": 0,
  "metadata": {
    "colab": {
      "provenance": [],
      "authorship_tag": "ABX9TyMs1N6sIAcufyytEFiqdUIF"
    },
    "kernelspec": {
      "name": "python3",
      "display_name": "Python 3"
    },
    "language_info": {
      "name": "python"
    }
  },
  "cells": [
    {
      "cell_type": "code",
      "execution_count": 3,
      "metadata": {
        "id": "0TIqapOugvBm"
      },
      "outputs": [],
      "source": [
        "import pandas as pd\n",
        "import numpy as np"
      ]
    },
    {
      "cell_type": "code",
      "source": [
        "train = pd.read_csv(\"train.csv\")\n",
        "test = pd.read_csv(\"test.csv\")\n",
        "feat = pd.read_csv(\"features.csv\")"
      ],
      "metadata": {
        "id": "W_XkHbxQhJ62"
      },
      "execution_count": 4,
      "outputs": []
    },
    {
      "cell_type": "code",
      "source": [
        "fX_train = feat[['lat', 'lon']]\n",
        "fy_train = feat.drop(['lat', 'lon'], axis=1)\n",
        "oi = fy_train.apply(lambda row: row.mean(), axis=1)\n",
        "fX_train['score'] = oi"
      ],
      "metadata": {
        "id": "m309G1v7mmt1",
        "colab": {
          "base_uri": "https://localhost:8080/"
        },
        "outputId": "4824b521-6a94-46b9-de13-c0d96c7f54c5"
      },
      "execution_count": 5,
      "outputs": [
        {
          "output_type": "stream",
          "name": "stderr",
          "text": [
            "<ipython-input-5-b847e53275cb>:4: SettingWithCopyWarning: \n",
            "A value is trying to be set on a copy of a slice from a DataFrame.\n",
            "Try using .loc[row_indexer,col_indexer] = value instead\n",
            "\n",
            "See the caveats in the documentation: https://pandas.pydata.org/pandas-docs/stable/user_guide/indexing.html#returning-a-view-versus-a-copy\n",
            "  fX_train['score'] = oi\n"
          ]
        }
      ]
    },
    {
      "cell_type": "code",
      "source": [
        "full_train = train.drop('id', axis=1).append(fX_train)"
      ],
      "metadata": {
        "id": "aqGteyUVmpq8",
        "colab": {
          "base_uri": "https://localhost:8080/"
        },
        "outputId": "23735542-9755-45e3-8802-45927285ea45"
      },
      "execution_count": 6,
      "outputs": [
        {
          "output_type": "stream",
          "name": "stderr",
          "text": [
            "<ipython-input-6-fd8c7bc3d841>:1: FutureWarning: The frame.append method is deprecated and will be removed from pandas in a future version. Use pandas.concat instead.\n",
            "  full_train = train.drop('id', axis=1).append(fX_train)\n"
          ]
        }
      ]
    },
    {
      "cell_type": "code",
      "source": [
        "full_train = full_train.sort_values(by='lat', ascending=True)"
      ],
      "metadata": {
        "id": "p9wD-4Nfm9qa"
      },
      "execution_count": 7,
      "outputs": []
    },
    {
      "cell_type": "markdown",
      "source": [
        "**MODEL TRAINING & PREPARATION**"
      ],
      "metadata": {
        "id": "oSl4Cj3hmyWe"
      }
    },
    {
      "cell_type": "code",
      "source": [
        "X_train = full_train[['lat', 'lon']]\n",
        "y_train = full_train['score']"
      ],
      "metadata": {
        "id": "y-tnj-P_m36z"
      },
      "execution_count": 8,
      "outputs": []
    },
    {
      "cell_type": "code",
      "source": [
        "param_grid = {'n_estimators': [2000],\n",
        " 'learning_rate': [0.1],\n",
        "              'max_depth': [10]}"
      ],
      "metadata": {
        "id": "TAQ7PShAnuN3"
      },
      "execution_count": 9,
      "outputs": []
    },
    {
      "cell_type": "code",
      "source": [
        "#ДЛЯ ОПРЕДЕЛЕНИЯ ЛУЧШИХ ПАРАМЕТРОВ ИСПОЛЬЗУЕТСЯ GridSearchCV - получаем n_estimators=2000, learning_rate=0.1, max_depth=10, random_state=42\n",
        "from sklearn.model_selection import GridSearchCV\n",
        "from sklearn.ensemble import GradientBoostingRegressor\n",
        "grid_search = GridSearchCV(GradientBoostingRegressor(), param_grid, cv=5)"
      ],
      "metadata": {
        "id": "gzP1WUdWnqSQ"
      },
      "execution_count": 10,
      "outputs": []
    },
    {
      "cell_type": "code",
      "source": [
        "model = GradientBoostingRegressor(n_estimators=2000, learning_rate=0.1, max_depth=10, random_state=42)\n",
        "model.fit(X_train, y_train)\n",
        "model.score(X_train, y_train)"
      ],
      "metadata": {
        "colab": {
          "base_uri": "https://localhost:8080/"
        },
        "id": "XGCU1rwrn-s3",
        "outputId": "ef22b31b-7a20-4cea-8ac7-f3c2929d4fc3"
      },
      "execution_count": 11,
      "outputs": [
        {
          "output_type": "execute_result",
          "data": {
            "text/plain": [
              "0.9994835136173427"
            ]
          },
          "metadata": {},
          "execution_count": 11
        }
      ]
    },
    {
      "cell_type": "code",
      "source": [
        "testdata = test[['lat', 'lon']]"
      ],
      "metadata": {
        "id": "yxTbTugws8zw"
      },
      "execution_count": 14,
      "outputs": []
    },
    {
      "cell_type": "code",
      "source": [
        "finale = pd.DataFrame(test['id'])"
      ],
      "metadata": {
        "id": "-gbOZFQfs922"
      },
      "execution_count": 23,
      "outputs": []
    },
    {
      "cell_type": "code",
      "source": [
        "pred = model.predict(testdata)"
      ],
      "metadata": {
        "id": "V1u4ZurFs0i8"
      },
      "execution_count": 24,
      "outputs": []
    },
    {
      "cell_type": "code",
      "source": [
        "finale['score'] = pred"
      ],
      "metadata": {
        "id": "uRFeG3swtD9b"
      },
      "execution_count": 25,
      "outputs": []
    },
    {
      "cell_type": "code",
      "source": [
        "finale.to_csv(\"submission.csv\")"
      ],
      "metadata": {
        "id": "YA05_80utL0Z"
      },
      "execution_count": 27,
      "outputs": []
    },
    {
      "cell_type": "code",
      "source": [],
      "metadata": {
        "id": "F8qLgx15tLeq"
      },
      "execution_count": null,
      "outputs": []
    },
    {
      "cell_type": "markdown",
      "source": [
        "**КОМБИНИРОВАТЬ ДВА ДАСАТЕТА - КАК ЭТО СДЕЛАТЬ?????????**"
      ],
      "metadata": {
        "id": "H_uvrxNRysHG"
      }
    }
  ]
}